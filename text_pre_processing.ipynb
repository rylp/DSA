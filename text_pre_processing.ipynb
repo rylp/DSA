{
  "nbformat": 4,
  "nbformat_minor": 0,
  "metadata": {
    "colab": {
      "name": "text_pre_processing.ipynb",
      "provenance": [],
      "collapsed_sections": [],
      "authorship_tag": "ABX9TyMSIfhB+x2u/ZB5hFKrNE9k",
      "include_colab_link": true
    },
    "kernelspec": {
      "name": "python3",
      "display_name": "Python 3"
    }
  },
  "cells": [
    {
      "cell_type": "markdown",
      "metadata": {
        "id": "view-in-github",
        "colab_type": "text"
      },
      "source": [
        "<a href=\"https://colab.research.google.com/github/rylp/dsa_HAs/blob/master/text_pre_processing.ipynb\" target=\"_parent\"><img src=\"https://colab.research.google.com/assets/colab-badge.svg\" alt=\"Open In Colab\"/></a>"
      ]
    },
    {
      "cell_type": "code",
      "metadata": {
        "id": "QvAhTK8AuwKg",
        "colab_type": "code",
        "colab": {}
      },
      "source": [
        "import numpy as np\n",
        "import pandas as pd"
      ],
      "execution_count": 0,
      "outputs": []
    },
    {
      "cell_type": "code",
      "metadata": {
        "id": "gvouFwTS60_D",
        "colab_type": "code",
        "colab": {
          "base_uri": "https://localhost:8080/",
          "height": 204
        },
        "outputId": "d100a53e-2bf1-4c65-bfeb-6cfb5766fda4"
      },
      "source": [
        "url='https://raw.githubusercontent.com/rohanrohan2012/ipl_datasets/master/ExtractedTweets.csv'\n",
        "df=pd.read_csv(url)\n",
        "df.head()"
      ],
      "execution_count": 33,
      "outputs": [
        {
          "output_type": "execute_result",
          "data": {
            "text/html": [
              "<div>\n",
              "<style scoped>\n",
              "    .dataframe tbody tr th:only-of-type {\n",
              "        vertical-align: middle;\n",
              "    }\n",
              "\n",
              "    .dataframe tbody tr th {\n",
              "        vertical-align: top;\n",
              "    }\n",
              "\n",
              "    .dataframe thead th {\n",
              "        text-align: right;\n",
              "    }\n",
              "</style>\n",
              "<table border=\"1\" class=\"dataframe\">\n",
              "  <thead>\n",
              "    <tr style=\"text-align: right;\">\n",
              "      <th></th>\n",
              "      <th>Party</th>\n",
              "      <th>Handle</th>\n",
              "      <th>Tweet</th>\n",
              "    </tr>\n",
              "  </thead>\n",
              "  <tbody>\n",
              "    <tr>\n",
              "      <th>0</th>\n",
              "      <td>Democrat</td>\n",
              "      <td>RepDarrenSoto</td>\n",
              "      <td>Today, Senate Dems vote to #SaveTheInternet. P...</td>\n",
              "    </tr>\n",
              "    <tr>\n",
              "      <th>1</th>\n",
              "      <td>Democrat</td>\n",
              "      <td>RepDarrenSoto</td>\n",
              "      <td>RT @WinterHavenSun: Winter Haven resident / Al...</td>\n",
              "    </tr>\n",
              "    <tr>\n",
              "      <th>2</th>\n",
              "      <td>Democrat</td>\n",
              "      <td>RepDarrenSoto</td>\n",
              "      <td>RT @NBCLatino: .@RepDarrenSoto noted that Hurr...</td>\n",
              "    </tr>\n",
              "    <tr>\n",
              "      <th>3</th>\n",
              "      <td>Democrat</td>\n",
              "      <td>RepDarrenSoto</td>\n",
              "      <td>RT @NALCABPolicy: Meeting with @RepDarrenSoto ...</td>\n",
              "    </tr>\n",
              "    <tr>\n",
              "      <th>4</th>\n",
              "      <td>Democrat</td>\n",
              "      <td>RepDarrenSoto</td>\n",
              "      <td>RT @Vegalteno: Hurricane season starts on June...</td>\n",
              "    </tr>\n",
              "  </tbody>\n",
              "</table>\n",
              "</div>"
            ],
            "text/plain": [
              "      Party         Handle                                              Tweet\n",
              "0  Democrat  RepDarrenSoto  Today, Senate Dems vote to #SaveTheInternet. P...\n",
              "1  Democrat  RepDarrenSoto  RT @WinterHavenSun: Winter Haven resident / Al...\n",
              "2  Democrat  RepDarrenSoto  RT @NBCLatino: .@RepDarrenSoto noted that Hurr...\n",
              "3  Democrat  RepDarrenSoto  RT @NALCABPolicy: Meeting with @RepDarrenSoto ...\n",
              "4  Democrat  RepDarrenSoto  RT @Vegalteno: Hurricane season starts on June..."
            ]
          },
          "metadata": {
            "tags": []
          },
          "execution_count": 33
        }
      ]
    },
    {
      "cell_type": "code",
      "metadata": {
        "id": "euXnIr2f657m",
        "colab_type": "code",
        "colab": {
          "base_uri": "https://localhost:8080/",
          "height": 419
        },
        "outputId": "d43108f1-f0dd-417a-f8e8-e0e34e6a84f7"
      },
      "source": [
        "df.set_index('Tweet')\n",
        "df.reset_index()"
      ],
      "execution_count": 34,
      "outputs": [
        {
          "output_type": "execute_result",
          "data": {
            "text/html": [
              "<div>\n",
              "<style scoped>\n",
              "    .dataframe tbody tr th:only-of-type {\n",
              "        vertical-align: middle;\n",
              "    }\n",
              "\n",
              "    .dataframe tbody tr th {\n",
              "        vertical-align: top;\n",
              "    }\n",
              "\n",
              "    .dataframe thead th {\n",
              "        text-align: right;\n",
              "    }\n",
              "</style>\n",
              "<table border=\"1\" class=\"dataframe\">\n",
              "  <thead>\n",
              "    <tr style=\"text-align: right;\">\n",
              "      <th></th>\n",
              "      <th>index</th>\n",
              "      <th>Party</th>\n",
              "      <th>Handle</th>\n",
              "      <th>Tweet</th>\n",
              "    </tr>\n",
              "  </thead>\n",
              "  <tbody>\n",
              "    <tr>\n",
              "      <th>0</th>\n",
              "      <td>0</td>\n",
              "      <td>Democrat</td>\n",
              "      <td>RepDarrenSoto</td>\n",
              "      <td>Today, Senate Dems vote to #SaveTheInternet. P...</td>\n",
              "    </tr>\n",
              "    <tr>\n",
              "      <th>1</th>\n",
              "      <td>1</td>\n",
              "      <td>Democrat</td>\n",
              "      <td>RepDarrenSoto</td>\n",
              "      <td>RT @WinterHavenSun: Winter Haven resident / Al...</td>\n",
              "    </tr>\n",
              "    <tr>\n",
              "      <th>2</th>\n",
              "      <td>2</td>\n",
              "      <td>Democrat</td>\n",
              "      <td>RepDarrenSoto</td>\n",
              "      <td>RT @NBCLatino: .@RepDarrenSoto noted that Hurr...</td>\n",
              "    </tr>\n",
              "    <tr>\n",
              "      <th>3</th>\n",
              "      <td>3</td>\n",
              "      <td>Democrat</td>\n",
              "      <td>RepDarrenSoto</td>\n",
              "      <td>RT @NALCABPolicy: Meeting with @RepDarrenSoto ...</td>\n",
              "    </tr>\n",
              "    <tr>\n",
              "      <th>4</th>\n",
              "      <td>4</td>\n",
              "      <td>Democrat</td>\n",
              "      <td>RepDarrenSoto</td>\n",
              "      <td>RT @Vegalteno: Hurricane season starts on June...</td>\n",
              "    </tr>\n",
              "    <tr>\n",
              "      <th>...</th>\n",
              "      <td>...</td>\n",
              "      <td>...</td>\n",
              "      <td>...</td>\n",
              "      <td>...</td>\n",
              "    </tr>\n",
              "    <tr>\n",
              "      <th>86455</th>\n",
              "      <td>86455</td>\n",
              "      <td>Republican</td>\n",
              "      <td>RepTomPrice</td>\n",
              "      <td>Check out my op-ed on need for End Executive O...</td>\n",
              "    </tr>\n",
              "    <tr>\n",
              "      <th>86456</th>\n",
              "      <td>86456</td>\n",
              "      <td>Republican</td>\n",
              "      <td>RepTomPrice</td>\n",
              "      <td>Yesterday, Betty &amp;amp; I had a great time lear...</td>\n",
              "    </tr>\n",
              "    <tr>\n",
              "      <th>86457</th>\n",
              "      <td>86457</td>\n",
              "      <td>Republican</td>\n",
              "      <td>RepTomPrice</td>\n",
              "      <td>We are forever grateful for the service and sa...</td>\n",
              "    </tr>\n",
              "    <tr>\n",
              "      <th>86458</th>\n",
              "      <td>86458</td>\n",
              "      <td>Republican</td>\n",
              "      <td>RepTomPrice</td>\n",
              "      <td>Happy first day of school @CobbSchools! #CobbB...</td>\n",
              "    </tr>\n",
              "    <tr>\n",
              "      <th>86459</th>\n",
              "      <td>86459</td>\n",
              "      <td>Republican</td>\n",
              "      <td>RepTomPrice</td>\n",
              "      <td>#Zika fears realized in Florida. House GOP act...</td>\n",
              "    </tr>\n",
              "  </tbody>\n",
              "</table>\n",
              "<p>86460 rows × 4 columns</p>\n",
              "</div>"
            ],
            "text/plain": [
              "       index  ...                                              Tweet\n",
              "0          0  ...  Today, Senate Dems vote to #SaveTheInternet. P...\n",
              "1          1  ...  RT @WinterHavenSun: Winter Haven resident / Al...\n",
              "2          2  ...  RT @NBCLatino: .@RepDarrenSoto noted that Hurr...\n",
              "3          3  ...  RT @NALCABPolicy: Meeting with @RepDarrenSoto ...\n",
              "4          4  ...  RT @Vegalteno: Hurricane season starts on June...\n",
              "...      ...  ...                                                ...\n",
              "86455  86455  ...  Check out my op-ed on need for End Executive O...\n",
              "86456  86456  ...  Yesterday, Betty &amp; I had a great time lear...\n",
              "86457  86457  ...  We are forever grateful for the service and sa...\n",
              "86458  86458  ...  Happy first day of school @CobbSchools! #CobbB...\n",
              "86459  86459  ...  #Zika fears realized in Florida. House GOP act...\n",
              "\n",
              "[86460 rows x 4 columns]"
            ]
          },
          "metadata": {
            "tags": []
          },
          "execution_count": 34
        }
      ]
    },
    {
      "cell_type": "code",
      "metadata": {
        "id": "qaTVBpjE9Pbp",
        "colab_type": "code",
        "colab": {
          "base_uri": "https://localhost:8080/",
          "height": 419
        },
        "outputId": "6f7f8b20-68e2-4cbc-9377-46c039dd181e"
      },
      "source": [
        "df"
      ],
      "execution_count": 35,
      "outputs": [
        {
          "output_type": "execute_result",
          "data": {
            "text/html": [
              "<div>\n",
              "<style scoped>\n",
              "    .dataframe tbody tr th:only-of-type {\n",
              "        vertical-align: middle;\n",
              "    }\n",
              "\n",
              "    .dataframe tbody tr th {\n",
              "        vertical-align: top;\n",
              "    }\n",
              "\n",
              "    .dataframe thead th {\n",
              "        text-align: right;\n",
              "    }\n",
              "</style>\n",
              "<table border=\"1\" class=\"dataframe\">\n",
              "  <thead>\n",
              "    <tr style=\"text-align: right;\">\n",
              "      <th></th>\n",
              "      <th>Party</th>\n",
              "      <th>Handle</th>\n",
              "      <th>Tweet</th>\n",
              "    </tr>\n",
              "  </thead>\n",
              "  <tbody>\n",
              "    <tr>\n",
              "      <th>0</th>\n",
              "      <td>Democrat</td>\n",
              "      <td>RepDarrenSoto</td>\n",
              "      <td>Today, Senate Dems vote to #SaveTheInternet. P...</td>\n",
              "    </tr>\n",
              "    <tr>\n",
              "      <th>1</th>\n",
              "      <td>Democrat</td>\n",
              "      <td>RepDarrenSoto</td>\n",
              "      <td>RT @WinterHavenSun: Winter Haven resident / Al...</td>\n",
              "    </tr>\n",
              "    <tr>\n",
              "      <th>2</th>\n",
              "      <td>Democrat</td>\n",
              "      <td>RepDarrenSoto</td>\n",
              "      <td>RT @NBCLatino: .@RepDarrenSoto noted that Hurr...</td>\n",
              "    </tr>\n",
              "    <tr>\n",
              "      <th>3</th>\n",
              "      <td>Democrat</td>\n",
              "      <td>RepDarrenSoto</td>\n",
              "      <td>RT @NALCABPolicy: Meeting with @RepDarrenSoto ...</td>\n",
              "    </tr>\n",
              "    <tr>\n",
              "      <th>4</th>\n",
              "      <td>Democrat</td>\n",
              "      <td>RepDarrenSoto</td>\n",
              "      <td>RT @Vegalteno: Hurricane season starts on June...</td>\n",
              "    </tr>\n",
              "    <tr>\n",
              "      <th>...</th>\n",
              "      <td>...</td>\n",
              "      <td>...</td>\n",
              "      <td>...</td>\n",
              "    </tr>\n",
              "    <tr>\n",
              "      <th>86455</th>\n",
              "      <td>Republican</td>\n",
              "      <td>RepTomPrice</td>\n",
              "      <td>Check out my op-ed on need for End Executive O...</td>\n",
              "    </tr>\n",
              "    <tr>\n",
              "      <th>86456</th>\n",
              "      <td>Republican</td>\n",
              "      <td>RepTomPrice</td>\n",
              "      <td>Yesterday, Betty &amp;amp; I had a great time lear...</td>\n",
              "    </tr>\n",
              "    <tr>\n",
              "      <th>86457</th>\n",
              "      <td>Republican</td>\n",
              "      <td>RepTomPrice</td>\n",
              "      <td>We are forever grateful for the service and sa...</td>\n",
              "    </tr>\n",
              "    <tr>\n",
              "      <th>86458</th>\n",
              "      <td>Republican</td>\n",
              "      <td>RepTomPrice</td>\n",
              "      <td>Happy first day of school @CobbSchools! #CobbB...</td>\n",
              "    </tr>\n",
              "    <tr>\n",
              "      <th>86459</th>\n",
              "      <td>Republican</td>\n",
              "      <td>RepTomPrice</td>\n",
              "      <td>#Zika fears realized in Florida. House GOP act...</td>\n",
              "    </tr>\n",
              "  </tbody>\n",
              "</table>\n",
              "<p>86460 rows × 3 columns</p>\n",
              "</div>"
            ],
            "text/plain": [
              "            Party  ...                                              Tweet\n",
              "0        Democrat  ...  Today, Senate Dems vote to #SaveTheInternet. P...\n",
              "1        Democrat  ...  RT @WinterHavenSun: Winter Haven resident / Al...\n",
              "2        Democrat  ...  RT @NBCLatino: .@RepDarrenSoto noted that Hurr...\n",
              "3        Democrat  ...  RT @NALCABPolicy: Meeting with @RepDarrenSoto ...\n",
              "4        Democrat  ...  RT @Vegalteno: Hurricane season starts on June...\n",
              "...           ...  ...                                                ...\n",
              "86455  Republican  ...  Check out my op-ed on need for End Executive O...\n",
              "86456  Republican  ...  Yesterday, Betty &amp; I had a great time lear...\n",
              "86457  Republican  ...  We are forever grateful for the service and sa...\n",
              "86458  Republican  ...  Happy first day of school @CobbSchools! #CobbB...\n",
              "86459  Republican  ...  #Zika fears realized in Florida. House GOP act...\n",
              "\n",
              "[86460 rows x 3 columns]"
            ]
          },
          "metadata": {
            "tags": []
          },
          "execution_count": 35
        }
      ]
    },
    {
      "cell_type": "code",
      "metadata": {
        "id": "5HlfehY__3w3",
        "colab_type": "code",
        "colab": {
          "base_uri": "https://localhost:8080/",
          "height": 238
        },
        "outputId": "eddfec15-55e6-4998-8bbb-a17dd87553a9"
      },
      "source": [
        "tweet = df['Tweet']\n",
        "print(tweet)\n",
        "print(type(tweet))"
      ],
      "execution_count": 39,
      "outputs": [
        {
          "output_type": "stream",
          "text": [
            "0        Today, Senate Dems vote to #SaveTheInternet. P...\n",
            "1        RT @WinterHavenSun: Winter Haven resident / Al...\n",
            "2        RT @NBCLatino: .@RepDarrenSoto noted that Hurr...\n",
            "3        RT @NALCABPolicy: Meeting with @RepDarrenSoto ...\n",
            "4        RT @Vegalteno: Hurricane season starts on June...\n",
            "                               ...                        \n",
            "86455    Check out my op-ed on need for End Executive O...\n",
            "86456    Yesterday, Betty &amp; I had a great time lear...\n",
            "86457    We are forever grateful for the service and sa...\n",
            "86458    Happy first day of school @CobbSchools! #CobbB...\n",
            "86459    #Zika fears realized in Florida. House GOP act...\n",
            "Name: Tweet, Length: 86460, dtype: object\n",
            "<class 'pandas.core.series.Series'>\n"
          ],
          "name": "stdout"
        }
      ]
    },
    {
      "cell_type": "code",
      "metadata": {
        "id": "xqqjgIC37By2",
        "colab_type": "code",
        "colab": {
          "base_uri": "https://localhost:8080/",
          "height": 68
        },
        "outputId": "311fbf22-6662-4430-84cd-f6346d1f9d32"
      },
      "source": [
        "sentence ='Hi man! How are things'\n",
        "sentences = sent_tokenize(paragraph)\n",
        "print(sentences)\n",
        "print(sentences[0])\n",
        "print(type(sentences))"
      ],
      "execution_count": 36,
      "outputs": [
        {
          "output_type": "stream",
          "text": [
            "[' Hello world!', 'I am going for coffee before work!']\n",
            " Hello world!\n",
            "<class 'list'>\n"
          ],
          "name": "stdout"
        }
      ]
    },
    {
      "cell_type": "code",
      "metadata": {
        "id": "9qP0o2ia-_sN",
        "colab_type": "code",
        "colab": {
          "base_uri": "https://localhost:8080/",
          "height": 105
        },
        "outputId": "ea93b64b-ead5-421f-8045-1017b62af932"
      },
      "source": [
        "import nltk\n",
        "from nltk.tokenize import word_tokenize\n",
        "#function to split text into word\n",
        "tokens = word_tokenize(tweet[0])\n",
        "nltk.download('stopwords')\n",
        "print(tokens)\n",
        "print(len(tokens))"
      ],
      "execution_count": 43,
      "outputs": [
        {
          "output_type": "stream",
          "text": [
            "[nltk_data] Downloading package stopwords to /root/nltk_data...\n",
            "[nltk_data]   Package stopwords is already up-to-date!\n",
            "['Today', ',', 'Senate', 'Dems', 'vote', 'to', '#', 'SaveTheInternet', '.', 'Proud', 'to', 'support', 'similar', '#', 'NetNeutrality', 'legislation', 'here', 'in', 'the', 'House…', 'https', ':', '//t.co/n3tggDLU1L']\n",
            "23\n"
          ],
          "name": "stdout"
        }
      ]
    },
    {
      "cell_type": "code",
      "metadata": {
        "id": "-BiSkjsTAHyA",
        "colab_type": "code",
        "colab": {
          "base_uri": "https://localhost:8080/",
          "height": 34
        },
        "outputId": "070b65f2-efdf-4e0e-c73f-dd23316a666d"
      },
      "source": [
        "from nltk.corpus import stopwords\n",
        "stop_words = set(stopwords.words('english'))\n",
        "tokens = [w for w in tokens if not w in stop_words]\n",
        "print(len(tokens))"
      ],
      "execution_count": 44,
      "outputs": [
        {
          "output_type": "stream",
          "text": [
            "18\n"
          ],
          "name": "stdout"
        }
      ]
    },
    {
      "cell_type": "code",
      "metadata": {
        "id": "RFlnMPYFANMS",
        "colab_type": "code",
        "colab": {
          "base_uri": "https://localhost:8080/",
          "height": 71
        },
        "outputId": "99e9865d-641b-4fda-afff-919b44e1ae88"
      },
      "source": [
        "from nltk.stem.porter import PorterStemmer\n",
        "porter = PorterStemmer()\n",
        "stems = []\n",
        "for t in tokens:    \n",
        "    stems.append(porter.stem(t))\n",
        "print(stems)\n",
        "print(len(stems))"
      ],
      "execution_count": 45,
      "outputs": [
        {
          "output_type": "stream",
          "text": [
            "['today', ',', 'senat', 'dem', 'vote', '#', 'savetheinternet', '.', 'proud', 'support', 'similar', '#', 'netneutr', 'legisl', 'house…', 'http', ':', '//t.co/n3tggdlu1l']\n",
            "18\n"
          ],
          "name": "stdout"
        }
      ]
    },
    {
      "cell_type": "code",
      "metadata": {
        "id": "dtxVAsULAkHh",
        "colab_type": "code",
        "colab": {}
      },
      "source": [
        ""
      ],
      "execution_count": 0,
      "outputs": []
    }
  ]
}